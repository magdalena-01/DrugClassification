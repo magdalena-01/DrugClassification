{
 "cells": [
  {
   "cell_type": "markdown",
   "id": "40203f9c",
   "metadata": {},
   "source": [
    "# <div style=\"text-align: center; background-color: #012D7A; font-family:newtimeroman; color: white; padding: 20px; line-height: 1;border-radius:25px\">🧪 DRUG CLASSIFICATION</div>"
   ]
  },
  {
   "cell_type": "markdown",
   "id": "3667db95",
   "metadata": {},
   "source": [
    "<center><img src=\"https://images.unsplash.com/photo-1607619056574-7b8d3ee536b2?ixid=MnwxMjA3fDB8MHxwaG90by1wYWdlfHx8fGVufDB8fHx8&ixlib=rb-1.2.1&auto=format&fit=crop&w=1240&q=80\" alt=\"Drug Picture\" width=\"700\" height=\"700\"></center><br>"
   ]
  },
  {
   "cell_type": "markdown",
   "id": "ea25563c",
   "metadata": {},
   "source": [
    "## <div style=\"text-align: center; background-color: #012D7A; font-family:newtimeroman; color: white; padding: 20px; line-height: 1;border-radius:25px\">🧪 ABOUT THE DATASET</div>"
   ]
  },
  {
   "cell_type": "markdown",
   "id": "22d67c4d",
   "metadata": {},
   "source": [
    "👉 The drug classification dataset contains collected data from a set of patients, all of whom suffered from the same illness. During their course of treatment, each patient responded to one of five medications, Drug A, Drug B, Drug c, Drug x and y.\n",
    "\n",
    "👉 For every patient we store their age, sex, blood pressure (BP), cholesterol level, sodium to potassium ratio and the type of drug they responded to which is also our target.\n",
    "\n",
    "👉 Our job is to build a model to find out which drug might be appropriate for a future patient with the same illness. \n"
   ]
  },
  {
   "cell_type": "markdown",
   "id": "c4139b65",
   "metadata": {},
   "source": [
    "## <div style=\"text-align: center; font-family:newtimeroman; color: black;\"> Notebook objectives 🔎</div>"
   ]
  },
  {
   "cell_type": "markdown",
   "id": "6cd331d5",
   "metadata": {},
   "source": [
    "<div style=\"text-align: center\"> The Notebook is divided into two parts, each with its own purpose: </div> <br>\n",
    "<div style=\"text-align: center\">  📌 Dataset exploration using various types of data visualization. <br> <br>\n",
    "  📌 Building various ML models that can predict drug type.</div>\n"
   ]
  },
  {
   "cell_type": "markdown",
   "id": "f9caff5c",
   "metadata": {},
   "source": [
    "## <div style=\"text-align: center; background-color: #012D7A; font-family:newtimeroman; color: white; padding: 20px; line-height: 1;border-radius:25px\">🧪 DATASET EXPLORATION</div>"
   ]
  },
  {
   "cell_type": "markdown",
   "id": "6cf1238b",
   "metadata": {},
   "source": [
    "## <div style=\"font-family:newtimeroman; color: black;\"> Importing Necessary Libraries 📚</div>"
   ]
  },
  {
   "cell_type": "code",
   "execution_count": 1,
   "id": "76dacaec",
   "metadata": {},
   "outputs": [],
   "source": [
    "import numpy as np \n",
    "import pandas as pd \n",
    "import seaborn as sns\n",
    "import matplotlib.pyplot as plt"
   ]
  },
  {
   "cell_type": "markdown",
   "id": "0373619f",
   "metadata": {},
   "source": [
    "## <div style=\"font-family:newtimeroman; color: black;\"> Importing the dataset, reading it and displaying its first five rows.</div>"
   ]
  },
  {
   "cell_type": "code",
   "execution_count": 2,
   "id": "bef6749e",
   "metadata": {},
   "outputs": [
    {
     "data": {
      "text/html": [
       "<div>\n",
       "<style scoped>\n",
       "    .dataframe tbody tr th:only-of-type {\n",
       "        vertical-align: middle;\n",
       "    }\n",
       "\n",
       "    .dataframe tbody tr th {\n",
       "        vertical-align: top;\n",
       "    }\n",
       "\n",
       "    .dataframe thead th {\n",
       "        text-align: right;\n",
       "    }\n",
       "</style>\n",
       "<table border=\"1\" class=\"dataframe\">\n",
       "  <thead>\n",
       "    <tr style=\"text-align: right;\">\n",
       "      <th></th>\n",
       "      <th>Age</th>\n",
       "      <th>Sex</th>\n",
       "      <th>BP</th>\n",
       "      <th>Cholesterol</th>\n",
       "      <th>Na_to_K</th>\n",
       "      <th>Drug</th>\n",
       "    </tr>\n",
       "  </thead>\n",
       "  <tbody>\n",
       "    <tr>\n",
       "      <th>0</th>\n",
       "      <td>23</td>\n",
       "      <td>F</td>\n",
       "      <td>HIGH</td>\n",
       "      <td>HIGH</td>\n",
       "      <td>25.355</td>\n",
       "      <td>DrugY</td>\n",
       "    </tr>\n",
       "    <tr>\n",
       "      <th>1</th>\n",
       "      <td>47</td>\n",
       "      <td>M</td>\n",
       "      <td>LOW</td>\n",
       "      <td>HIGH</td>\n",
       "      <td>13.093</td>\n",
       "      <td>drugC</td>\n",
       "    </tr>\n",
       "    <tr>\n",
       "      <th>2</th>\n",
       "      <td>47</td>\n",
       "      <td>M</td>\n",
       "      <td>LOW</td>\n",
       "      <td>HIGH</td>\n",
       "      <td>10.114</td>\n",
       "      <td>drugC</td>\n",
       "    </tr>\n",
       "    <tr>\n",
       "      <th>3</th>\n",
       "      <td>28</td>\n",
       "      <td>F</td>\n",
       "      <td>NORMAL</td>\n",
       "      <td>HIGH</td>\n",
       "      <td>7.798</td>\n",
       "      <td>drugX</td>\n",
       "    </tr>\n",
       "    <tr>\n",
       "      <th>4</th>\n",
       "      <td>61</td>\n",
       "      <td>F</td>\n",
       "      <td>LOW</td>\n",
       "      <td>HIGH</td>\n",
       "      <td>18.043</td>\n",
       "      <td>DrugY</td>\n",
       "    </tr>\n",
       "  </tbody>\n",
       "</table>\n",
       "</div>"
      ],
      "text/plain": [
       "   Age Sex      BP Cholesterol  Na_to_K   Drug\n",
       "0   23   F    HIGH        HIGH   25.355  DrugY\n",
       "1   47   M     LOW        HIGH   13.093  drugC\n",
       "2   47   M     LOW        HIGH   10.114  drugC\n",
       "3   28   F  NORMAL        HIGH    7.798  drugX\n",
       "4   61   F     LOW        HIGH   18.043  DrugY"
      ]
     },
     "execution_count": 2,
     "metadata": {},
     "output_type": "execute_result"
    }
   ],
   "source": [
    "df = pd.read_csv(\"drug200.csv\")\n",
    "df.head() #Gi prikazuva prvite 5 redovi od datasetot."
   ]
  },
  {
   "cell_type": "markdown",
   "id": "69ce3fbf",
   "metadata": {},
   "source": [
    "## <div style=\"font-family:newtimeroman; color: black;\">🧾 Generating descriptive statistics that summarize dataset's distribution.</div>"
   ]
  },
  {
   "cell_type": "code",
   "execution_count": 3,
   "id": "eee05d25",
   "metadata": {},
   "outputs": [
    {
     "data": {
      "text/html": [
       "<div>\n",
       "<style scoped>\n",
       "    .dataframe tbody tr th:only-of-type {\n",
       "        vertical-align: middle;\n",
       "    }\n",
       "\n",
       "    .dataframe tbody tr th {\n",
       "        vertical-align: top;\n",
       "    }\n",
       "\n",
       "    .dataframe thead th {\n",
       "        text-align: right;\n",
       "    }\n",
       "</style>\n",
       "<table border=\"1\" class=\"dataframe\">\n",
       "  <thead>\n",
       "    <tr style=\"text-align: right;\">\n",
       "      <th></th>\n",
       "      <th>Age</th>\n",
       "      <th>Na_to_K</th>\n",
       "    </tr>\n",
       "  </thead>\n",
       "  <tbody>\n",
       "    <tr>\n",
       "      <th>count</th>\n",
       "      <td>200.000000</td>\n",
       "      <td>200.000000</td>\n",
       "    </tr>\n",
       "    <tr>\n",
       "      <th>mean</th>\n",
       "      <td>44.315000</td>\n",
       "      <td>16.084485</td>\n",
       "    </tr>\n",
       "    <tr>\n",
       "      <th>std</th>\n",
       "      <td>16.544315</td>\n",
       "      <td>7.223956</td>\n",
       "    </tr>\n",
       "    <tr>\n",
       "      <th>min</th>\n",
       "      <td>15.000000</td>\n",
       "      <td>6.269000</td>\n",
       "    </tr>\n",
       "    <tr>\n",
       "      <th>25%</th>\n",
       "      <td>31.000000</td>\n",
       "      <td>10.445500</td>\n",
       "    </tr>\n",
       "    <tr>\n",
       "      <th>50%</th>\n",
       "      <td>45.000000</td>\n",
       "      <td>13.936500</td>\n",
       "    </tr>\n",
       "    <tr>\n",
       "      <th>75%</th>\n",
       "      <td>58.000000</td>\n",
       "      <td>19.380000</td>\n",
       "    </tr>\n",
       "    <tr>\n",
       "      <th>max</th>\n",
       "      <td>74.000000</td>\n",
       "      <td>38.247000</td>\n",
       "    </tr>\n",
       "  </tbody>\n",
       "</table>\n",
       "</div>"
      ],
      "text/plain": [
       "              Age     Na_to_K\n",
       "count  200.000000  200.000000\n",
       "mean    44.315000   16.084485\n",
       "std     16.544315    7.223956\n",
       "min     15.000000    6.269000\n",
       "25%     31.000000   10.445500\n",
       "50%     45.000000   13.936500\n",
       "75%     58.000000   19.380000\n",
       "max     74.000000   38.247000"
      ]
     },
     "execution_count": 3,
     "metadata": {},
     "output_type": "execute_result"
    }
   ],
   "source": [
    "df.describe() #describe() funkcijata presmetuva rezime od statistiki koi se odnesuvaat na kolonite od dataframe-ot. "
   ]
  },
  {
   "cell_type": "markdown",
   "id": "fd4310b3",
   "metadata": {},
   "source": [
    "## <div style=\"font-family:newtimeroman; color: black;\"> Checking how many values for each feature are missing. </div>"
   ]
  },
  {
   "cell_type": "code",
   "execution_count": 4,
   "id": "961bd2c4",
   "metadata": {},
   "outputs": [
    {
     "data": {
      "text/plain": [
       "Age            0\n",
       "Sex            0\n",
       "BP             0\n",
       "Cholesterol    0\n",
       "Na_to_K        0\n",
       "Drug           0\n",
       "dtype: int64"
      ]
     },
     "execution_count": 4,
     "metadata": {},
     "output_type": "execute_result"
    }
   ],
   "source": [
    "df.isna().sum() #Prikazuva kolku vrednosti nedostasuvaat od sekoja kolona. Gledame deka nikade nemame missing values."
   ]
  },
  {
   "cell_type": "markdown",
   "id": "b139c976",
   "metadata": {},
   "source": [
    "## <div style=\"font-family:newtimeroman; color: black;\">🧾 Displaying general information about the dataset. </div>"
   ]
  },
  {
   "cell_type": "code",
   "execution_count": 5,
   "id": "1f1633f9",
   "metadata": {},
   "outputs": [
    {
     "name": "stdout",
     "output_type": "stream",
     "text": [
      "<class 'pandas.core.frame.DataFrame'>\n",
      "RangeIndex: 200 entries, 0 to 199\n",
      "Data columns (total 6 columns):\n",
      " #   Column       Non-Null Count  Dtype  \n",
      "---  ------       --------------  -----  \n",
      " 0   Age          200 non-null    int64  \n",
      " 1   Sex          200 non-null    object \n",
      " 2   BP           200 non-null    object \n",
      " 3   Cholesterol  200 non-null    object \n",
      " 4   Na_to_K      200 non-null    float64\n",
      " 5   Drug         200 non-null    object \n",
      "dtypes: float64(1), int64(1), object(4)\n",
      "memory usage: 9.5+ KB\n"
     ]
    }
   ],
   "source": [
    "df.info() #Prikazuva informacii za dataframe-ot."
   ]
  },
  {
   "cell_type": "markdown",
   "id": "6ceb65d0",
   "metadata": {},
   "source": [
    "## <div style=\"font-family:newtimeroman; color: black;\"> Checking the variable type of every feature. </div>"
   ]
  },
  {
   "cell_type": "code",
   "execution_count": 6,
   "id": "da9075f8",
   "metadata": {},
   "outputs": [
    {
     "data": {
      "text/plain": [
       "Age              int64\n",
       "Sex             object\n",
       "BP              object\n",
       "Cholesterol     object\n",
       "Na_to_K        float64\n",
       "Drug            object\n",
       "dtype: object"
      ]
     },
     "execution_count": 6,
     "metadata": {},
     "output_type": "execute_result"
    }
   ],
   "source": [
    "df.dtypes #Prikazuva od koj tip se site promenlivi."
   ]
  },
  {
   "cell_type": "markdown",
   "id": "85cd813a",
   "metadata": {},
   "source": [
    "👉 We can conclude that only two features (Age and Na_to_K) are numerical."
   ]
  },
  {
   "cell_type": "markdown",
   "id": "8ff0799b",
   "metadata": {},
   "source": [
    "## <div style=\"font-family:newtimeroman; color: black;\">🔎 About the variables: </div>"
   ]
  },
  {
   "cell_type": "code",
   "execution_count": 7,
   "id": "d70c4405",
   "metadata": {},
   "outputs": [
    {
     "data": {
      "text/plain": [
       "DrugY    91\n",
       "drugX    54\n",
       "drugA    23\n",
       "drugC    16\n",
       "drugB    16\n",
       "Name: Drug, dtype: int64"
      ]
     },
     "execution_count": 7,
     "metadata": {},
     "output_type": "execute_result"
    }
   ],
   "source": [
    "df.Drug.value_counts() #Prikazuva kolku primeroci se javuvaat vo datasetot za sekoj drug posebno"
   ]
  },
  {
   "cell_type": "markdown",
   "id": "34a99af3",
   "metadata": {},
   "source": [
    "👉 From results above, we can conclude that most of the patients have responded to DrugY."
   ]
  },
  {
   "cell_type": "code",
   "execution_count": 8,
   "id": "c6f73d80",
   "metadata": {},
   "outputs": [
    {
     "name": "stdout",
     "output_type": "stream",
     "text": [
      "M    104\n",
      "F     96\n",
      "Name: Sex, dtype: int64\n"
     ]
    }
   ],
   "source": [
    "print(df.Sex.value_counts()) #Prikazuva kolku primeroci se javuvaat vo datasetot za sekoj pol posebno"
   ]
  },
  {
   "cell_type": "markdown",
   "id": "ed04673a",
   "metadata": {},
   "source": [
    "👉 The female to male ratio is balanced."
   ]
  },
  {
   "cell_type": "code",
   "execution_count": 9,
   "id": "704a0ce0",
   "metadata": {},
   "outputs": [
    {
     "name": "stdout",
     "output_type": "stream",
     "text": [
      "HIGH      77\n",
      "LOW       64\n",
      "NORMAL    59\n",
      "Name: BP, dtype: int64\n"
     ]
    }
   ],
   "source": [
    "print(df.BP.value_counts()) #Prikazuva kolku primeroci se javuvaat vo datasetot za sekoe nivo (high, low, normal) na krven pritisok"
   ]
  },
  {
   "cell_type": "markdown",
   "id": "e6b394c7",
   "metadata": {},
   "source": [
    "👉 The distribution of blood pressure level is balanced."
   ]
  },
  {
   "cell_type": "code",
   "execution_count": 10,
   "id": "402e7f82",
   "metadata": {},
   "outputs": [
    {
     "data": {
      "text/plain": [
       "HIGH      103\n",
       "NORMAL     97\n",
       "Name: Cholesterol, dtype: int64"
      ]
     },
     "execution_count": 10,
     "metadata": {},
     "output_type": "execute_result"
    }
   ],
   "source": [
    "df.Cholesterol.value_counts() #Prikazuva kolku primeroci se javuvaat vo datasetot za sekoe nivo (high, normal) na holesterol"
   ]
  },
  {
   "cell_type": "markdown",
   "id": "d27f49cf",
   "metadata": {},
   "source": [
    "👉 The distribution of cholesterol level is balanced."
   ]
  },
  {
   "cell_type": "markdown",
   "id": "c63a5b0c",
   "metadata": {},
   "source": [
    "## <div style=\"font-family:newtimeroman; color: black;\"> Displaying the age of the oldest and youngest patient. </div>"
   ]
  },
  {
   "cell_type": "code",
   "execution_count": 11,
   "id": "b19195f1",
   "metadata": {},
   "outputs": [
    {
     "name": "stdout",
     "output_type": "stream",
     "text": [
      "Max Age: 74\n",
      "Min Age: 15\n"
     ]
    }
   ],
   "source": [
    "print(\"Max Age:\", df.Age.max()) #Prikazi koja e maksimalnata vozrast vo dataframe-ot.\n",
    "print(\"Min Age:\", df.Age.min()) #Prikazi koja e minimalnata vozrast vo dataframe-ot."
   ]
  },
  {
   "cell_type": "markdown",
   "id": "bccb291c",
   "metadata": {},
   "source": [
    "## <div style=\"font-family:newtimeroman; color: black;\"> Visual age distribution. </div>"
   ]
  },
  {
   "cell_type": "code",
   "execution_count": 12,
   "id": "c6fb67d3",
   "metadata": {},
   "outputs": [
    {
     "data": {
      "text/plain": [
       "<Figure size 900x500 with 0 Axes>"
      ]
     },
     "metadata": {},
     "output_type": "display_data"
    },
    {
     "data": {
      "image/png": "[encoded data removed]",
      "text/plain": [
       "<Figure size 500x500 with 1 Axes>"
      ]
     },
     "metadata": {},
     "output_type": "display_data"
    }
   ],
   "source": [
    "# Distribucija na vozrast/Age\n",
    "plt.figure(figsize = (9,5))\n",
    "sns.displot(df['Age'], kind=\"kde\")\n",
    "plt.show()"
   ]
  },
  {
   "cell_type": "markdown",
   "id": "8593ef99",
   "metadata": {},
   "source": [
    "## <div style=\"font-family:newtimeroman; color: black;\"> Visual distribution of the sodium to potassium ratio. </div>"
   ]
  },
  {
   "cell_type": "code",
   "execution_count": 13,
   "id": "fa569a6a",
   "metadata": {},
   "outputs": [
    {
     "data": {
      "text/plain": [
       "<seaborn.axisgrid.FacetGrid at 0x21264f65720>"
      ]
     },
     "execution_count": 13,
     "metadata": {},
     "output_type": "execute_result"
    },
    {
     "data": {
      "image/png": "[encoded data removed]",
      "text/plain": [
       "<Figure size 500x500 with 1 Axes>"
      ]
     },
     "metadata": {},
     "output_type": "display_data"
    }
   ],
   "source": [
    "#Distribucija na nivoto na natrium sprema kalium vo krvta\n",
    "sns.displot(df['Na_to_K'], kind=\"kde\")"
   ]
  },
  {
   "cell_type": "markdown",
   "id": "e196d418",
   "metadata": {},
   "source": [
    "## <div style=\"font-family:newtimeroman; color: black;\"> Age-Drug Analysis. </div>"
   ]
  },
  {
   "cell_type": "code",
   "execution_count": 14,
   "id": "750d91fe",
   "metadata": {},
   "outputs": [
    {
     "data": {
      "image/png": "[encoded data removed]",
      "text/plain": [
       "<Figure size 900x500 with 1 Axes>"
      ]
     },
     "metadata": {},
     "output_type": "display_data"
    }
   ],
   "source": [
    "plt.figure(figsize = (9,5))\n",
    "sns.swarmplot(x = \"Drug\", y = \"Age\",data = df,  hue=\"Drug\")\n",
    "plt.legend(df.Drug.value_counts().index)\n",
    "plt.title(\"Age -- Drug\")\n",
    "plt.show()"
   ]
  },
  {
   "cell_type": "markdown",
   "id": "0c520531",
   "metadata": {},
   "source": [
    "* Patients older than 51 years old, have reacted to DrugB. \n",
    "* Patients younger than 50 years old have reacted to DrugA. "
   ]
  },
  {
   "cell_type": "markdown",
   "id": "1a724c5c",
   "metadata": {},
   "source": [
    "## <div style=\"font-family:newtimeroman; color: black;\"> Sex-Drug Analysis. </div>"
   ]
  },
  {
   "cell_type": "code",
   "execution_count": 15,
   "id": "f6773e99",
   "metadata": {},
   "outputs": [
    {
     "data": {
      "text/html": [
       "<div>\n",
       "<style scoped>\n",
       "    .dataframe tbody tr th:only-of-type {\n",
       "        vertical-align: middle;\n",
       "    }\n",
       "\n",
       "    .dataframe tbody tr th {\n",
       "        vertical-align: top;\n",
       "    }\n",
       "\n",
       "    .dataframe thead th {\n",
       "        text-align: right;\n",
       "    }\n",
       "</style>\n",
       "<table border=\"1\" class=\"dataframe\">\n",
       "  <thead>\n",
       "    <tr style=\"text-align: right;\">\n",
       "      <th></th>\n",
       "      <th>Drug</th>\n",
       "      <th>Sex</th>\n",
       "      <th>Count</th>\n",
       "    </tr>\n",
       "  </thead>\n",
       "  <tbody>\n",
       "    <tr>\n",
       "      <th>0</th>\n",
       "      <td>DrugY</td>\n",
       "      <td>F</td>\n",
       "      <td>47</td>\n",
       "    </tr>\n",
       "    <tr>\n",
       "      <th>1</th>\n",
       "      <td>DrugY</td>\n",
       "      <td>M</td>\n",
       "      <td>44</td>\n",
       "    </tr>\n",
       "    <tr>\n",
       "      <th>2</th>\n",
       "      <td>drugA</td>\n",
       "      <td>F</td>\n",
       "      <td>9</td>\n",
       "    </tr>\n",
       "    <tr>\n",
       "      <th>3</th>\n",
       "      <td>drugA</td>\n",
       "      <td>M</td>\n",
       "      <td>14</td>\n",
       "    </tr>\n",
       "    <tr>\n",
       "      <th>4</th>\n",
       "      <td>drugB</td>\n",
       "      <td>F</td>\n",
       "      <td>6</td>\n",
       "    </tr>\n",
       "    <tr>\n",
       "      <th>5</th>\n",
       "      <td>drugB</td>\n",
       "      <td>M</td>\n",
       "      <td>10</td>\n",
       "    </tr>\n",
       "    <tr>\n",
       "      <th>6</th>\n",
       "      <td>drugC</td>\n",
       "      <td>F</td>\n",
       "      <td>7</td>\n",
       "    </tr>\n",
       "    <tr>\n",
       "      <th>7</th>\n",
       "      <td>drugC</td>\n",
       "      <td>M</td>\n",
       "      <td>9</td>\n",
       "    </tr>\n",
       "    <tr>\n",
       "      <th>8</th>\n",
       "      <td>drugX</td>\n",
       "      <td>F</td>\n",
       "      <td>27</td>\n",
       "    </tr>\n",
       "    <tr>\n",
       "      <th>9</th>\n",
       "      <td>drugX</td>\n",
       "      <td>M</td>\n",
       "      <td>27</td>\n",
       "    </tr>\n",
       "  </tbody>\n",
       "</table>\n",
       "</div>"
      ],
      "text/plain": [
       "    Drug Sex  Count\n",
       "0  DrugY   F     47\n",
       "1  DrugY   M     44\n",
       "2  drugA   F      9\n",
       "3  drugA   M     14\n",
       "4  drugB   F      6\n",
       "5  drugB   M     10\n",
       "6  drugC   F      7\n",
       "7  drugC   M      9\n",
       "8  drugX   F     27\n",
       "9  drugX   M     27"
      ]
     },
     "execution_count": 15,
     "metadata": {},
     "output_type": "execute_result"
    }
   ],
   "source": [
    "#Za sekoj drug kolku projavil reakcija kaj zenski i mashki soodvetno\n",
    "df_Sex_Drug = df.groupby([\"Drug\",\"Sex\"]).size().reset_index(name = \"Count\")\n",
    "df_Sex_Drug"
   ]
  },
  {
   "cell_type": "code",
   "execution_count": 16,
   "id": "c0c184c2",
   "metadata": {},
   "outputs": [
    {
     "data": {
      "image/png": "[encoded data removed]",
      "text/plain": [
       "<Figure size 900x500 with 1 Axes>"
      ]
     },
     "metadata": {},
     "output_type": "display_data"
    }
   ],
   "source": [
    "plt.figure(figsize = (9,5))\n",
    "sns.barplot(x = \"Drug\",y=\"Count\", hue = \"Sex\",data = df_Sex_Drug)\n",
    "plt.title(\"Sex -- Drug\")\n",
    "plt.show()"
   ]
  },
  {
   "cell_type": "markdown",
   "id": "6028fd3d",
   "metadata": {},
   "source": [
    "* Males have reacted to drugA, drugB and drugC more than females.\n",
    "* Females have reacted to DrugY more than male people.\n",
    "* drugX seems equal for males and females.\n",
    "* According to this graph, Sex feature is not an important feature for classification."
   ]
  },
  {
   "cell_type": "markdown",
   "id": "fae92262",
   "metadata": {},
   "source": [
    "## <div style=\"font-family:newtimeroman; color: black;\"> BP-Drug Analysis. </div>"
   ]
  },
  {
   "cell_type": "code",
   "execution_count": 17,
   "id": "fbd0c5bb",
   "metadata": {},
   "outputs": [
    {
     "data": {
      "text/html": [
       "<div>\n",
       "<style scoped>\n",
       "    .dataframe tbody tr th:only-of-type {\n",
       "        vertical-align: middle;\n",
       "    }\n",
       "\n",
       "    .dataframe tbody tr th {\n",
       "        vertical-align: top;\n",
       "    }\n",
       "\n",
       "    .dataframe thead th {\n",
       "        text-align: right;\n",
       "    }\n",
       "</style>\n",
       "<table border=\"1\" class=\"dataframe\">\n",
       "  <thead>\n",
       "    <tr style=\"text-align: right;\">\n",
       "      <th></th>\n",
       "      <th>Drug</th>\n",
       "      <th>BP</th>\n",
       "      <th>Count</th>\n",
       "    </tr>\n",
       "  </thead>\n",
       "  <tbody>\n",
       "    <tr>\n",
       "      <th>0</th>\n",
       "      <td>DrugY</td>\n",
       "      <td>HIGH</td>\n",
       "      <td>38</td>\n",
       "    </tr>\n",
       "    <tr>\n",
       "      <th>1</th>\n",
       "      <td>DrugY</td>\n",
       "      <td>LOW</td>\n",
       "      <td>30</td>\n",
       "    </tr>\n",
       "    <tr>\n",
       "      <th>2</th>\n",
       "      <td>DrugY</td>\n",
       "      <td>NORMAL</td>\n",
       "      <td>23</td>\n",
       "    </tr>\n",
       "    <tr>\n",
       "      <th>3</th>\n",
       "      <td>drugA</td>\n",
       "      <td>HIGH</td>\n",
       "      <td>23</td>\n",
       "    </tr>\n",
       "    <tr>\n",
       "      <th>4</th>\n",
       "      <td>drugB</td>\n",
       "      <td>HIGH</td>\n",
       "      <td>16</td>\n",
       "    </tr>\n",
       "    <tr>\n",
       "      <th>5</th>\n",
       "      <td>drugC</td>\n",
       "      <td>LOW</td>\n",
       "      <td>16</td>\n",
       "    </tr>\n",
       "    <tr>\n",
       "      <th>6</th>\n",
       "      <td>drugX</td>\n",
       "      <td>LOW</td>\n",
       "      <td>18</td>\n",
       "    </tr>\n",
       "    <tr>\n",
       "      <th>7</th>\n",
       "      <td>drugX</td>\n",
       "      <td>NORMAL</td>\n",
       "      <td>36</td>\n",
       "    </tr>\n",
       "  </tbody>\n",
       "</table>\n",
       "</div>"
      ],
      "text/plain": [
       "    Drug      BP  Count\n",
       "0  DrugY    HIGH     38\n",
       "1  DrugY     LOW     30\n",
       "2  DrugY  NORMAL     23\n",
       "3  drugA    HIGH     23\n",
       "4  drugB    HIGH     16\n",
       "5  drugC     LOW     16\n",
       "6  drugX     LOW     18\n",
       "7  drugX  NORMAL     36"
      ]
     },
     "execution_count": 17,
     "metadata": {},
     "output_type": "execute_result"
    }
   ],
   "source": [
    "df_BP_Drug = df.groupby([\"Drug\",\"BP\"]).size().reset_index(name = \"Count\")\n",
    "df_BP_Drug"
   ]
  },
  {
   "cell_type": "code",
   "execution_count": 18,
   "id": "56329a39",
   "metadata": {},
   "outputs": [
    {
     "data": {
      "image/png": "[encoded data removed]",
      "text/plain": [
       "<Figure size 900x500 with 1 Axes>"
      ]
     },
     "metadata": {},
     "output_type": "display_data"
    }
   ],
   "source": [
    "plt.figure(figsize = (9,5))\n",
    "sns.barplot(x = \"Drug\",y=\"Count\", hue = \"BP\",data = df_BP_Drug)\n",
    "plt.title(\"BP -- Drug\")\n",
    "plt.show()"
   ]
  },
  {
   "cell_type": "markdown",
   "id": "069332ae",
   "metadata": {},
   "source": [
    "* drugA and drugB have shown reaction only by people who have HIGH blood pressure.\n",
    "* drugC has shown reaction by people who have LOW blood pressure.\n",
    "* drugX has shown reaction more by people who have NORMAL blood pressure.\n",
    "* BP is an important feature for classification."
   ]
  },
  {
   "cell_type": "markdown",
   "id": "33ec1cbf",
   "metadata": {},
   "source": [
    "## <div style=\"font-family:newtimeroman; color: black;\"> Na_to_K - Drug Analysis. </div>"
   ]
  },
  {
   "cell_type": "code",
   "execution_count": 19,
   "id": "7f65a6ee",
   "metadata": {},
   "outputs": [
    {
     "data": {
      "image/png": "[encoded data removed]",
      "text/plain": [
       "<Figure size 900x500 with 1 Axes>"
      ]
     },
     "metadata": {},
     "output_type": "display_data"
    }
   ],
   "source": [
    "plt.figure(figsize = (9,5))\n",
    "sns.swarmplot(x = \"Drug\", y = \"Na_to_K\",data = df, hue=\"Drug\")\n",
    "plt.title(\"Na_to_K -- Drug\")\n",
    "plt.show()"
   ]
  },
  {
   "cell_type": "code",
   "execution_count": 20,
   "id": "2a96df49",
   "metadata": {},
   "outputs": [
    {
     "name": "stdout",
     "output_type": "stream",
     "text": [
      "Minimum Na_to_K for DrugY: 15.015\n"
     ]
    }
   ],
   "source": [
    "print(\"Minimum Na_to_K for DrugY:\",df.Na_to_K[df.Drug == \"DrugY\"].min())"
   ]
  },
  {
   "cell_type": "markdown",
   "id": "28157f6c",
   "metadata": {},
   "source": [
    "**People who have Na_to_K ratio greater than 15, take DrugY.**"
   ]
  },
  {
   "cell_type": "markdown",
   "id": "68db8247",
   "metadata": {},
   "source": [
    "## <div style=\"font-family:newtimeroman; color: black;\"> Cholesterol-Drug Analysis. </div>"
   ]
  },
  {
   "cell_type": "code",
   "execution_count": 21,
   "id": "8f38403c",
   "metadata": {},
   "outputs": [
    {
     "data": {
      "text/html": [
       "<div>\n",
       "<style scoped>\n",
       "    .dataframe tbody tr th:only-of-type {\n",
       "        vertical-align: middle;\n",
       "    }\n",
       "\n",
       "    .dataframe tbody tr th {\n",
       "        vertical-align: top;\n",
       "    }\n",
       "\n",
       "    .dataframe thead th {\n",
       "        text-align: right;\n",
       "    }\n",
       "</style>\n",
       "<table border=\"1\" class=\"dataframe\">\n",
       "  <thead>\n",
       "    <tr style=\"text-align: right;\">\n",
       "      <th></th>\n",
       "      <th>Drug</th>\n",
       "      <th>Cholesterol</th>\n",
       "      <th>Count</th>\n",
       "    </tr>\n",
       "  </thead>\n",
       "  <tbody>\n",
       "    <tr>\n",
       "      <th>0</th>\n",
       "      <td>DrugY</td>\n",
       "      <td>HIGH</td>\n",
       "      <td>47</td>\n",
       "    </tr>\n",
       "    <tr>\n",
       "      <th>1</th>\n",
       "      <td>DrugY</td>\n",
       "      <td>NORMAL</td>\n",
       "      <td>44</td>\n",
       "    </tr>\n",
       "    <tr>\n",
       "      <th>2</th>\n",
       "      <td>drugA</td>\n",
       "      <td>HIGH</td>\n",
       "      <td>12</td>\n",
       "    </tr>\n",
       "    <tr>\n",
       "      <th>3</th>\n",
       "      <td>drugA</td>\n",
       "      <td>NORMAL</td>\n",
       "      <td>11</td>\n",
       "    </tr>\n",
       "    <tr>\n",
       "      <th>4</th>\n",
       "      <td>drugB</td>\n",
       "      <td>HIGH</td>\n",
       "      <td>8</td>\n",
       "    </tr>\n",
       "    <tr>\n",
       "      <th>5</th>\n",
       "      <td>drugB</td>\n",
       "      <td>NORMAL</td>\n",
       "      <td>8</td>\n",
       "    </tr>\n",
       "    <tr>\n",
       "      <th>6</th>\n",
       "      <td>drugC</td>\n",
       "      <td>HIGH</td>\n",
       "      <td>16</td>\n",
       "    </tr>\n",
       "    <tr>\n",
       "      <th>7</th>\n",
       "      <td>drugX</td>\n",
       "      <td>HIGH</td>\n",
       "      <td>20</td>\n",
       "    </tr>\n",
       "    <tr>\n",
       "      <th>8</th>\n",
       "      <td>drugX</td>\n",
       "      <td>NORMAL</td>\n",
       "      <td>34</td>\n",
       "    </tr>\n",
       "  </tbody>\n",
       "</table>\n",
       "</div>"
      ],
      "text/plain": [
       "    Drug Cholesterol  Count\n",
       "0  DrugY        HIGH     47\n",
       "1  DrugY      NORMAL     44\n",
       "2  drugA        HIGH     12\n",
       "3  drugA      NORMAL     11\n",
       "4  drugB        HIGH      8\n",
       "5  drugB      NORMAL      8\n",
       "6  drugC        HIGH     16\n",
       "7  drugX        HIGH     20\n",
       "8  drugX      NORMAL     34"
      ]
     },
     "execution_count": 21,
     "metadata": {},
     "output_type": "execute_result"
    }
   ],
   "source": [
    "df_CH_Drug = df.groupby([\"Drug\",\"Cholesterol\"]).size().reset_index(name = \"Count\")\n",
    "df_CH_Drug"
   ]
  },
  {
   "cell_type": "code",
   "execution_count": 22,
   "id": "c8145542",
   "metadata": {},
   "outputs": [
    {
     "data": {
      "image/png": "[encoded data removed]",
      "text/plain": [
       "<Figure size 900x500 with 1 Axes>"
      ]
     },
     "metadata": {},
     "output_type": "display_data"
    }
   ],
   "source": [
    "plt.figure(figsize = (9,5))\n",
    "sns.barplot(x = \"Drug\",y=\"Count\", hue = \"Cholesterol\",data = df_CH_Drug)\n",
    "plt.title(\"Cholesterol -- Drug\")\n",
    "plt.show()"
   ]
  },
  {
   "cell_type": "markdown",
   "id": "1f3f816a",
   "metadata": {},
   "source": [
    "**DrugC has shown reaction by people who have HIGH cholesterol.**\n",
    "* Cholesterol is an important feature to classify drugC"
   ]
  },
  {
   "cell_type": "markdown",
   "id": "d5768fd8",
   "metadata": {},
   "source": [
    "## <div style=\"font-family:newtimeroman; color: black;\"> Na_to_K - BP -Drug Analysis. </div>"
   ]
  },
  {
   "cell_type": "code",
   "execution_count": 23,
   "id": "acf03ef8",
   "metadata": {},
   "outputs": [
    {
     "data": {
      "image/png": "[encoded data removed]",
      "text/plain": [
       "<Figure size 900x500 with 1 Axes>"
      ]
     },
     "metadata": {},
     "output_type": "display_data"
    }
   ],
   "source": [
    "plt.figure(figsize = (9,5))\n",
    "sns.swarmplot(x = \"Drug\", y = \"Na_to_K\",hue=\"BP\",data = df)\n",
    "plt.legend()\n",
    "plt.title(\"Na_to_K -- BP -- Drug\")\n",
    "plt.show()"
   ]
  },
  {
   "cell_type": "markdown",
   "id": "7735b0ba",
   "metadata": {},
   "source": [
    "* If people have HIGH blood pressure and Na_to_K ratio is lower than 15 , they react to drugA and drugB only.\n",
    "* If people have LOW blood pressure and Na_to_K ratio is lower than 15 , they react to drugC only."
   ]
  },
  {
   "cell_type": "markdown",
   "id": "855cc782",
   "metadata": {},
   "source": [
    "## <div style=\"text-align: center; background-color: #012D7A; font-family:newtimeroman; color: white; padding: 20px; line-height: 1;border-radius:25px\">🧪 BUILDING ML MODELS</div>"
   ]
  },
  {
   "cell_type": "markdown",
   "id": "a445a86b",
   "metadata": {},
   "source": [
    "👉 First we will prepare the dataset before building the machine learning models."
   ]
  },
  {
   "cell_type": "markdown",
   "id": "296a06e2",
   "metadata": {},
   "source": [
    "## <div style=\"font-family:newtimeroman; color: black;\"> Splitting the Dataset 🔨 </div>"
   ]
  },
  {
   "cell_type": "code",
   "execution_count": 24,
   "id": "7e77745b",
   "metadata": {},
   "outputs": [],
   "source": [
    "#Gi importirame potrebnite biblioteki\n",
    "from sklearn.model_selection import train_test_split\n",
    "from sklearn.metrics import confusion_matrix\n",
    "from sklearn.metrics import classification_report\n",
    "from sklearn.model_selection import cross_validate,cross_val_score"
   ]
  },
  {
   "cell_type": "markdown",
   "id": "447d234e",
   "metadata": {},
   "source": [
    "The dataset will be split into **70% training and 30% testing**. \n",
    "The instances will be picked randomly (due to shuffle = True)."
   ]
  },
  {
   "cell_type": "code",
   "execution_count": 25,
   "id": "a86e8a52",
   "metadata": {},
   "outputs": [],
   "source": [
    "X = df.drop([\"Drug\"], axis=1) #Vo X promenlivata go smestuvame celiot dataset so isklucok na kolonata Drug. \n",
    "#Kolonata Drug mora da ja izostavime bidejki vo X ke cuvame samo input promenlivi. Drug e output promenliva.\n",
    "#Vrz baza na input promenlivite treba da dobieme soodveten output (Drug type)\n",
    "y = df[\"Drug\"] #Vo y ke gi cuvame samo vrednostite od Drug kolonata.\n",
    "#Odnosno vo y ke ja cuvame samo output promenlivata, koja istovremeno e i klasa.\n",
    "\n",
    "from sklearn.model_selection import train_test_split\n",
    "X_train, X_test, y_train, y_test = train_test_split(X, y, test_size = 0.3, random_state = 42, shuffle = True)\n",
    "#Gornata linija kod pravi split na datasetot na 70% training, 30% test.\n",
    "#70% od instancite od datasetot ke ni bidat za treniranje, a ostanatite 30% za testiranje.\n",
    "#Shuffle = True znaci deka random/slucajno ke gi odbira instancite za treniranje i za test, a ne sekvencijalno."
   ]
  },
  {
   "cell_type": "markdown",
   "id": "30275a63",
   "metadata": {},
   "source": [
    "## <div style=\"font-family:newtimeroman; color: black;\">  Using pandas.get_dummies() 🔨 </div>"
   ]
  },
  {
   "cell_type": "markdown",
   "id": "ad540454",
   "metadata": {},
   "source": [
    "pandas.get_dummies() is used for data manipulation. It converts categorical data into dummy or indicator variables.\n",
    "\n",
    "A dummy or indicator variable can have a value of 0 or 1."
   ]
  },
  {
   "cell_type": "code",
   "execution_count": 26,
   "id": "e9283e84",
   "metadata": {},
   "outputs": [
    {
     "data": {
      "text/html": [
       "<div>\n",
       "<style scoped>\n",
       "    .dataframe tbody tr th:only-of-type {\n",
       "        vertical-align: middle;\n",
       "    }\n",
       "\n",
       "    .dataframe tbody tr th {\n",
       "        vertical-align: top;\n",
       "    }\n",
       "\n",
       "    .dataframe thead th {\n",
       "        text-align: right;\n",
       "    }\n",
       "</style>\n",
       "<table border=\"1\" class=\"dataframe\">\n",
       "  <thead>\n",
       "    <tr style=\"text-align: right;\">\n",
       "      <th></th>\n",
       "      <th>Age</th>\n",
       "      <th>Na_to_K</th>\n",
       "      <th>Sex_F</th>\n",
       "      <th>Sex_M</th>\n",
       "      <th>BP_HIGH</th>\n",
       "      <th>BP_LOW</th>\n",
       "      <th>BP_NORMAL</th>\n",
       "      <th>Cholesterol_HIGH</th>\n",
       "      <th>Cholesterol_NORMAL</th>\n",
       "    </tr>\n",
       "  </thead>\n",
       "  <tbody>\n",
       "    <tr>\n",
       "      <th>95</th>\n",
       "      <td>36</td>\n",
       "      <td>11.424</td>\n",
       "      <td>0</td>\n",
       "      <td>1</td>\n",
       "      <td>0</td>\n",
       "      <td>1</td>\n",
       "      <td>0</td>\n",
       "      <td>0</td>\n",
       "      <td>1</td>\n",
       "    </tr>\n",
       "    <tr>\n",
       "      <th>15</th>\n",
       "      <td>16</td>\n",
       "      <td>15.516</td>\n",
       "      <td>1</td>\n",
       "      <td>0</td>\n",
       "      <td>1</td>\n",
       "      <td>0</td>\n",
       "      <td>0</td>\n",
       "      <td>0</td>\n",
       "      <td>1</td>\n",
       "    </tr>\n",
       "    <tr>\n",
       "      <th>30</th>\n",
       "      <td>18</td>\n",
       "      <td>8.750</td>\n",
       "      <td>1</td>\n",
       "      <td>0</td>\n",
       "      <td>0</td>\n",
       "      <td>0</td>\n",
       "      <td>1</td>\n",
       "      <td>0</td>\n",
       "      <td>1</td>\n",
       "    </tr>\n",
       "    <tr>\n",
       "      <th>158</th>\n",
       "      <td>59</td>\n",
       "      <td>10.444</td>\n",
       "      <td>1</td>\n",
       "      <td>0</td>\n",
       "      <td>0</td>\n",
       "      <td>1</td>\n",
       "      <td>0</td>\n",
       "      <td>1</td>\n",
       "      <td>0</td>\n",
       "    </tr>\n",
       "    <tr>\n",
       "      <th>128</th>\n",
       "      <td>47</td>\n",
       "      <td>33.542</td>\n",
       "      <td>0</td>\n",
       "      <td>1</td>\n",
       "      <td>0</td>\n",
       "      <td>1</td>\n",
       "      <td>0</td>\n",
       "      <td>0</td>\n",
       "      <td>1</td>\n",
       "    </tr>\n",
       "  </tbody>\n",
       "</table>\n",
       "</div>"
      ],
      "text/plain": [
       "     Age  Na_to_K  Sex_F  Sex_M  BP_HIGH  BP_LOW  BP_NORMAL  Cholesterol_HIGH  \\\n",
       "95    36   11.424      0      1        0       1          0                 0   \n",
       "15    16   15.516      1      0        1       0          0                 0   \n",
       "30    18    8.750      1      0        0       0          1                 0   \n",
       "158   59   10.444      1      0        0       1          0                 1   \n",
       "128   47   33.542      0      1        0       1          0                 0   \n",
       "\n",
       "     Cholesterol_NORMAL  \n",
       "95                    1  \n",
       "15                    1  \n",
       "30                    1  \n",
       "158                   0  \n",
       "128                   1  "
      ]
     },
     "execution_count": 26,
     "metadata": {},
     "output_type": "execute_result"
    }
   ],
   "source": [
    "#So ovaa funkcija konvertirame kategoricki(categorical) promenlivi vo dummy ili indikator promenlivi.\n",
    "#Dummy ili indikator promenliva moze da ima vrednost 0 ili 1.\n",
    "#Konvertiranjeto e vazno za da moze site promenlivi vo datasetot da se od numericki tip ovozmozuvajki polesno treniranje.\n",
    "X_train = pd.get_dummies(X_train)\n",
    "X_test = pd.get_dummies(X_test)\n",
    "\n",
    "X_test.head()"
   ]
  },
  {
   "cell_type": "markdown",
   "id": "c940d004",
   "metadata": {},
   "source": [
    "Now we will print the shapes of each of the dataframes acquired by the train_test_split function to check if they are compatible."
   ]
  },
  {
   "cell_type": "code",
   "execution_count": 27,
   "id": "4df7e2a8",
   "metadata": {},
   "outputs": [
    {
     "name": "stdout",
     "output_type": "stream",
     "text": [
      "x_train shape: (140, 9)\n",
      "x_test shape: (60, 9)\n",
      "y_train shape: (140,)\n",
      "y_test shape: (60,)\n"
     ]
    }
   ],
   "source": [
    "#Gi pecatime dimenziite na site cetiri datasets koi gi dobivme preku train_test_split funkcijata\n",
    "print(\"x_train shape:\",X_train.shape)\n",
    "print(\"x_test shape:\",X_test.shape)\n",
    "print(\"y_train shape:\",y_train.shape)\n",
    "print(\"y_test shape:\",y_test.shape)"
   ]
  },
  {
   "cell_type": "markdown",
   "id": "82ac2e79",
   "metadata": {},
   "source": [
    "## <div style=\"font-family:newtimeroman; color: black;\"> ML Models 🚀 </div>"
   ]
  },
  {
   "cell_type": "markdown",
   "id": "cf6e1b76",
   "metadata": {},
   "source": [
    "## <div style=\"text-align: center; background-color: #012D7A; font-family:newtimeroman; color: white; padding: 20px; line-height: 1;border-radius:25px\">Logistic Regression 🔨</div>"
   ]
  },
  {
   "cell_type": "code",
   "execution_count": 28,
   "id": "d5519e6a",
   "metadata": {},
   "outputs": [
    {
     "name": "stdout",
     "output_type": "stream",
     "text": [
      "              precision    recall  f1-score   support\n",
      "\n",
      "       DrugY       0.96      0.96      0.96        26\n",
      "       drugA       1.00      0.71      0.83         7\n",
      "       drugB       0.50      1.00      0.67         3\n",
      "       drugC       1.00      0.83      0.91         6\n",
      "       drugX       1.00      1.00      1.00        18\n",
      "\n",
      "    accuracy                           0.93        60\n",
      "   macro avg       0.89      0.90      0.87        60\n",
      "weighted avg       0.96      0.93      0.94        60\n",
      "\n",
      "[[25  0  1  0  0]\n",
      " [ 0  5  2  0  0]\n",
      " [ 0  0  3  0  0]\n",
      " [ 1  0  0  5  0]\n",
      " [ 0  0  0  0 18]]\n",
      "Logistic Regression accuracy is: 93.33%\n"
     ]
    }
   ],
   "source": [
    "from sklearn.linear_model import LogisticRegression #biblioteka za implementiranje na logisticka regresija\n",
    "\n",
    "LRclassifier = LogisticRegression(solver='liblinear', max_iter=5000) #go definirame logistic regression klasifikator\n",
    "LRclassifier.fit(X_train, y_train) #go trenirame modelot koristejki gi instancite za treniranje\n",
    "\n",
    "y_pred = LRclassifier.predict(X_test) #Istreniraniot model go koristime da pravi predikcija(prediction) vrz novi/nevideni instanci.\n",
    "\n",
    "print(classification_report(y_test, y_pred)) #so ovaa naredba gi pecatime site povazni parametri dobieni od treniranjeto i predikcijata\n",
    "#Tie parametri se precision, recall, f1-score i support.\n",
    "\n",
    "print(confusion_matrix(y_test, y_pred)) #Za confusion matrix:  \n",
    "#Ako gledame od levo kon desno od matrix-ot (horizontalno) postaveni se vo ovoj redosled drugY,drugA,drugB,drugC,drugX\n",
    "#Ako gledame od gore kon dole od matrix-ot (vertikalno) postaveni se vo ovoj redosled drugY,drugA,drugB,drugC,drugX\n",
    "\n",
    "from sklearn.metrics import accuracy_score\n",
    "LRAcc = accuracy_score(y_pred,y_test) #Presmetuva tocnost na logistic regression klasifikatorot\n",
    "\n",
    "print('Logistic Regression accuracy is: {:.2f}%'.format(LRAcc*100))  #Ja pecati tocnosta"
   ]
  },
  {
   "cell_type": "markdown",
   "id": "532024e3",
   "metadata": {},
   "source": [
    "**Let us recall what all the obtained parameters from the classification_report function mean.**\n",
    "\n",
    "👉 **Precision:** Percentage of correct positive predictions relative to total positive predictions.\n",
    "\n",
    "👉 **Recall:** Percentage of correct positive predictions relative to total actual positives.\n",
    "\n",
    "👉 **F1 Score:** A weighted harmonic mean of precision and recall. The closer to 1, the better the model.\n",
    "\n",
    "👉 **Support:** These values simply tell us how many patients belonged to each class in the test dataset.\n",
    "\n",
    "Additionally, we are given information about the accuracy, macro and weighted average.\n",
    "\n",
    "👉 **Accuracy** is the percentage of data that are correctly classified, which ranges from 0 to 1.\n",
    "\n",
    "👉 **Macro average** represents the arithmetic mean between all of the f1_scores, such that each score has the same importance.\n",
    "\n",
    "👉 **Micro(weighted) average** takes into account how many samples there are per category (the greater the support, the more important that category's f1_score).\n"
   ]
  },
  {
   "cell_type": "markdown",
   "id": "904e3271",
   "metadata": {},
   "source": [
    "**🚀 Logistic Regression accuracy: 93.33% 🚀**"
   ]
  },
  {
   "cell_type": "markdown",
   "id": "9ef459e1",
   "metadata": {},
   "source": [
    "## <div style=\"text-align: center; background-color: #012D7A; font-family:newtimeroman; color: white; padding: 20px; line-height: 1;border-radius:25px\">K Neighbours 🔨</div>"
   ]
  },
  {
   "cell_type": "code",
   "execution_count": 29,
   "id": "90756746",
   "metadata": {},
   "outputs": [
    {
     "name": "stdout",
     "output_type": "stream",
     "text": [
      "              precision    recall  f1-score   support\n",
      "\n",
      "       DrugY       0.90      1.00      0.95        26\n",
      "       drugA       0.33      0.14      0.20         7\n",
      "       drugB       0.00      0.00      0.00         3\n",
      "       drugC       0.00      0.00      0.00         6\n",
      "       drugX       0.54      0.78      0.64        18\n",
      "\n",
      "    accuracy                           0.68        60\n",
      "   macro avg       0.35      0.38      0.36        60\n",
      "weighted avg       0.59      0.68      0.62        60\n",
      "\n",
      "[[26  0  0  0  0]\n",
      " [ 1  1  0  0  5]\n",
      " [ 0  0  0  0  3]\n",
      " [ 1  1  0  0  4]\n",
      " [ 1  1  2  0 14]]\n",
      "K Neighbours accuracy is: 68.33%\n"
     ]
    },
    {
     "name": "stderr",
     "output_type": "stream",
     "text": [
      "C:\\Users\\Linux\\anaconda3\\lib\\site-packages\\sklearn\\metrics\\_classification.py:1344: UndefinedMetricWarning: Precision and F-score are ill-defined and being set to 0.0 in labels with no predicted samples. Use `zero_division` parameter to control this behavior.\n",
      "  _warn_prf(average, modifier, msg_start, len(result))\n",
      "C:\\Users\\Linux\\anaconda3\\lib\\site-packages\\sklearn\\metrics\\_classification.py:1344: UndefinedMetricWarning: Precision and F-score are ill-defined and being set to 0.0 in labels with no predicted samples. Use `zero_division` parameter to control this behavior.\n",
      "  _warn_prf(average, modifier, msg_start, len(result))\n",
      "C:\\Users\\Linux\\anaconda3\\lib\\site-packages\\sklearn\\metrics\\_classification.py:1344: UndefinedMetricWarning: Precision and F-score are ill-defined and being set to 0.0 in labels with no predicted samples. Use `zero_division` parameter to control this behavior.\n",
      "  _warn_prf(average, modifier, msg_start, len(result))\n"
     ]
    }
   ],
   "source": [
    "from sklearn.neighbors import KNeighborsClassifier #biblioteka za implementiranje na k neighbours\n",
    "KNclassifier = KNeighborsClassifier(n_neighbors=20) #go definirame k neighbours klasifikator\n",
    "KNclassifier.fit(X_train, y_train) #go trenirame modelot koristejki gi instancite za treniranje\n",
    "\n",
    "y_pred = KNclassifier.predict(X_test) #Istreniraniot model go koristime da pravi predikcija(prediction) vrz novi/nevideni instanci.\n",
    "\n",
    "print(classification_report(y_test, y_pred)) #so ovaa naredba gi pecatime site povazni parametri dobieni od treniranjeto i predikcijata\n",
    "#Tie parametri se precision, recall, f1-score i support.\n",
    "\n",
    "print(confusion_matrix(y_test, y_pred)) #Za confusion matrix:  \n",
    "#Ako gledame od levo kon desno od matrix-ot (horizontalno) postaveni se vo ovoj redosled drugY,drugA,drugB,drugC,drugX\n",
    "#Ako gledame od gore kon dole od matrix-ot (vertikalno) postaveni se vo ovoj redosled drugY,drugA,drugB,drugC,drugX\n",
    "\n",
    "from sklearn.metrics import accuracy_score\n",
    "KNAcc = accuracy_score(y_pred,y_test)  #Presmetuva tocnost\n",
    "print('K Neighbours accuracy is: {:.2f}%'.format(KNAcc*100)) #Ja pecati tocnosta"
   ]
  },
  {
   "cell_type": "markdown",
   "id": "a5b2a1cb",
   "metadata": {},
   "source": [
    "**🚀 K Neighbours accuracy: 68.33% 🚀**"
   ]
  },
  {
   "cell_type": "markdown",
   "id": "4f1702cd",
   "metadata": {},
   "source": [
    "## <div style=\"text-align: center; background-color: #012D7A; font-family:newtimeroman; color: white; padding: 20px; line-height: 1;border-radius:25px\">Random Forest 🔨</div>"
   ]
  },
  {
   "cell_type": "code",
   "execution_count": 30,
   "id": "2f910954",
   "metadata": {},
   "outputs": [
    {
     "name": "stdout",
     "output_type": "stream",
     "text": [
      "              precision    recall  f1-score   support\n",
      "\n",
      "       DrugY       1.00      1.00      1.00        26\n",
      "       drugA       1.00      1.00      1.00         7\n",
      "       drugB       1.00      1.00      1.00         3\n",
      "       drugC       1.00      1.00      1.00         6\n",
      "       drugX       1.00      1.00      1.00        18\n",
      "\n",
      "    accuracy                           1.00        60\n",
      "   macro avg       1.00      1.00      1.00        60\n",
      "weighted avg       1.00      1.00      1.00        60\n",
      "\n",
      "[[26  0  0  0  0]\n",
      " [ 0  7  0  0  0]\n",
      " [ 0  0  3  0  0]\n",
      " [ 0  0  0  6  0]\n",
      " [ 0  0  0  0 18]]\n",
      "Random Forest accuracy is: 100.00%\n"
     ]
    }
   ],
   "source": [
    "from sklearn.ensemble import RandomForestClassifier #biblioteka za implementiranje na random forest\n",
    "rfc = RandomForestClassifier(random_state = 42) #go definirame random forest klasifikator\n",
    "rfc.fit(X_train,y_train) #go trenirame modelot koristejki gi instancite za treniranje\n",
    "y_pred = rfc.predict(X_test) #Istreniraniot model go koristime da pravi predikcija(prediction) vrz novi/nevideni instanci.\n",
    "print(classification_report(y_test, y_pred)) #so ovaa naredba gi pecatime site povazni parametri dobieni od treniranjeto i predikcijata\n",
    "#Tie parametri se precision, recall, f1-score i support.\n",
    "\n",
    "print(confusion_matrix(y_test, y_pred)) #Za confusion matrix:  \n",
    "#Ako gledame od levo kon desno od matrix-ot (horizontalno) postaveni se vo ovoj redosled drugY,drugA,drugB,drugC,drugX\n",
    "#Ako gledame od gore kon dole od matrix-ot (vertikalno) postaveni se vo ovoj redosled drugY,drugA,drugB,drugC,drugX\n",
    "\n",
    "from sklearn.metrics import accuracy_score\n",
    "rfAcc = accuracy_score(y_pred,y_test)  #Presmetuva tocnost\n",
    "print('Random Forest accuracy is: {:.2f}%'.format(rfAcc*100)) #Ja pecati tocnosta"
   ]
  },
  {
   "cell_type": "markdown",
   "id": "cc19b111",
   "metadata": {},
   "source": [
    "**🚀 Random Forest accuracy: 100.00% 🚀**"
   ]
  },
  {
   "cell_type": "markdown",
   "id": "a89c666b",
   "metadata": {},
   "source": [
    "## <div style=\"text-align: center; background-color: #012D7A; font-family:newtimeroman; color: white; padding: 20px; line-height: 1;border-radius:25px\">Decision Tree 🔨</div>"
   ]
  },
  {
   "cell_type": "code",
   "execution_count": 31,
   "id": "5c399ffb",
   "metadata": {},
   "outputs": [
    {
     "name": "stdout",
     "output_type": "stream",
     "text": [
      "              precision    recall  f1-score   support\n",
      "\n",
      "       DrugY       1.00      1.00      1.00        26\n",
      "       drugA       1.00      1.00      1.00         7\n",
      "       drugB       1.00      1.00      1.00         3\n",
      "       drugC       1.00      1.00      1.00         6\n",
      "       drugX       1.00      1.00      1.00        18\n",
      "\n",
      "    accuracy                           1.00        60\n",
      "   macro avg       1.00      1.00      1.00        60\n",
      "weighted avg       1.00      1.00      1.00        60\n",
      "\n",
      "[[26  0  0  0  0]\n",
      " [ 0  7  0  0  0]\n",
      " [ 0  0  3  0  0]\n",
      " [ 0  0  0  6  0]\n",
      " [ 0  0  0  0 18]]\n",
      "Decision Tree accuracy is: 100.00%\n"
     ]
    }
   ],
   "source": [
    "from sklearn.tree import DecisionTreeClassifier #biblioteka za implementiranje na decision tree\n",
    "DTclassifier = DecisionTreeClassifier(max_leaf_nodes=10) #go definirame decision tree klasifikator\n",
    "DTclassifier.fit(X_train, y_train) #go trenirame modelot koristejki gi instancite za treniranje\n",
    "\n",
    "y_pred = DTclassifier.predict(X_test) #Istreniraniot model go koristime da pravi predikcija(prediction) vrz novi/nevideni instanci.\n",
    "\n",
    "print(classification_report(y_test, y_pred)) #so ovaa naredba gi pecatime site povazni parametri dobieni od treniranjeto i predikcijata\n",
    "#Tie parametri se precision, recall, f1-score i support.\n",
    "print(confusion_matrix(y_test, y_pred)) #Za confusion matrix:  \n",
    "#Ako gledame od levo kon desno od matrix-ot (horizontalno) postaveni se vo ovoj redosled drugY,drugA,drugB,drugC,drugX\n",
    "#Ako gledame od gore kon dole od matrix-ot (vertikalno) postaveni se vo ovoj redosled drugY,drugA,drugB,drugC,drugX\n",
    "\n",
    "\n",
    "from sklearn.metrics import accuracy_score\n",
    "DTAcc = accuracy_score(y_pred,y_test)  #Presmetuva tocnost\n",
    "print('Decision Tree accuracy is: {:.2f}%'.format(DTAcc*100)) #Ja pecati tocnosta"
   ]
  },
  {
   "cell_type": "markdown",
   "id": "23ccab97",
   "metadata": {},
   "source": [
    "**🚀 Decision Tree accuracy: 100.00% 🚀**"
   ]
  },
  {
   "cell_type": "markdown",
   "id": "5cc46b82",
   "metadata": {},
   "source": [
    "## <div style=\"text-align: center; background-color: #012D7A; font-family:newtimeroman; color: white; padding: 20px; line-height: 1;border-radius:25px\">Support Vector Machine (SVM) 🔨</div>"
   ]
  },
  {
   "cell_type": "code",
   "execution_count": 32,
   "id": "9614c1ac",
   "metadata": {},
   "outputs": [
    {
     "name": "stdout",
     "output_type": "stream",
     "text": [
      "              precision    recall  f1-score   support\n",
      "\n",
      "       DrugY       1.00      0.96      0.98        26\n",
      "       drugA       1.00      1.00      1.00         7\n",
      "       drugB       0.75      1.00      0.86         3\n",
      "       drugC       1.00      1.00      1.00         6\n",
      "       drugX       1.00      1.00      1.00        18\n",
      "\n",
      "    accuracy                           0.98        60\n",
      "   macro avg       0.95      0.99      0.97        60\n",
      "weighted avg       0.99      0.98      0.98        60\n",
      "\n",
      "[[25  0  1  0  0]\n",
      " [ 0  7  0  0  0]\n",
      " [ 0  0  3  0  0]\n",
      " [ 0  0  0  6  0]\n",
      " [ 0  0  0  0 18]]\n",
      "SVC accuracy is: 98.33%\n"
     ]
    },
    {
     "name": "stderr",
     "output_type": "stream",
     "text": [
      "C:\\Users\\Linux\\anaconda3\\lib\\site-packages\\sklearn\\svm\\_base.py:299: ConvergenceWarning: Solver terminated early (max_iter=251).  Consider pre-processing your data with StandardScaler or MinMaxScaler.\n",
      "  warnings.warn(\n"
     ]
    }
   ],
   "source": [
    "from sklearn.svm import SVC #biblioteka za implementiranje na SVM\n",
    "SVCclassifier = SVC(kernel='linear', max_iter=251) #go definirame SVM klasifikator\n",
    "SVCclassifier.fit(X_train, y_train)  #go trenirame modelot koristejki gi instancite za treniranje\n",
    "\n",
    "y_pred = SVCclassifier.predict(X_test) #Istreniraniot model go koristime da pravi predikcija(prediction) vrz novi/nevideni instanci.\n",
    "\n",
    "print(classification_report(y_test, y_pred)) #so ovaa naredba gi pecatime site povazni parametri dobieni od treniranjeto i predikcijata\n",
    "#Tie parametri se precision, recall, f1-score i support.\n",
    "print(confusion_matrix(y_test, y_pred)) #Za confusion matrix:  \n",
    "#Ako gledame od levo kon desno od matrix-ot (horizontalno) postaveni se vo ovoj redosled drugY,drugA,drugB,drugC,drugX\n",
    "#Ako gledame od gore kon dole od matrix-ot (vertikalno) postaveni se vo ovoj redosled drugY,drugA,drugB,drugC,drugX\n",
    "\n",
    "from sklearn.metrics import accuracy_score\n",
    "SVCAcc = accuracy_score(y_pred,y_test) #Presmetuva tocnost\n",
    "print('SVC accuracy is: {:.2f}%'.format(SVCAcc*100)) #Ja pecati tocnosta"
   ]
  },
  {
   "cell_type": "markdown",
   "id": "d5310da6",
   "metadata": {},
   "source": [
    "**🚀 Support Vector Machine accuracy: 98.33% 🚀**"
   ]
  },
  {
   "cell_type": "markdown",
   "id": "3724b4b3",
   "metadata": {},
   "source": [
    "## <div style=\"text-align: center; background-color: #012D7A; font-family:newtimeroman; color: white; padding: 20px; line-height: 1;border-radius:25px\">👀 MODEL COMPARISON</div>"
   ]
  },
  {
   "cell_type": "code",
   "execution_count": 33,
   "id": "78499986",
   "metadata": {},
   "outputs": [
    {
     "data": {
      "text/html": [
       "<div>\n",
       "<style scoped>\n",
       "    .dataframe tbody tr th:only-of-type {\n",
       "        vertical-align: middle;\n",
       "    }\n",
       "\n",
       "    .dataframe tbody tr th {\n",
       "        vertical-align: top;\n",
       "    }\n",
       "\n",
       "    .dataframe thead th {\n",
       "        text-align: right;\n",
       "    }\n",
       "</style>\n",
       "<table border=\"1\" class=\"dataframe\">\n",
       "  <thead>\n",
       "    <tr style=\"text-align: right;\">\n",
       "      <th></th>\n",
       "      <th>Model</th>\n",
       "      <th>Accuracy</th>\n",
       "    </tr>\n",
       "  </thead>\n",
       "  <tbody>\n",
       "    <tr>\n",
       "      <th>2</th>\n",
       "      <td>Random Forest</td>\n",
       "      <td>100.000000</td>\n",
       "    </tr>\n",
       "    <tr>\n",
       "      <th>3</th>\n",
       "      <td>Decision Tree</td>\n",
       "      <td>100.000000</td>\n",
       "    </tr>\n",
       "    <tr>\n",
       "      <th>4</th>\n",
       "      <td>SVM</td>\n",
       "      <td>98.333333</td>\n",
       "    </tr>\n",
       "    <tr>\n",
       "      <th>0</th>\n",
       "      <td>Logistic Regression</td>\n",
       "      <td>93.333333</td>\n",
       "    </tr>\n",
       "    <tr>\n",
       "      <th>1</th>\n",
       "      <td>K Neighbours</td>\n",
       "      <td>68.333333</td>\n",
       "    </tr>\n",
       "  </tbody>\n",
       "</table>\n",
       "</div>"
      ],
      "text/plain": [
       "                 Model    Accuracy\n",
       "2        Random Forest  100.000000\n",
       "3        Decision Tree  100.000000\n",
       "4                  SVM   98.333333\n",
       "0  Logistic Regression   93.333333\n",
       "1         K Neighbours   68.333333"
      ]
     },
     "execution_count": 33,
     "metadata": {},
     "output_type": "execute_result"
    }
   ],
   "source": [
    "compare = pd.DataFrame({'Model': ['Logistic Regression', 'K Neighbours', 'Random Forest', 'Decision Tree', 'SVM'], \n",
    "                        'Accuracy': [LRAcc*100, KNAcc*100, rfAcc*100, DTAcc*100, SVCAcc*100]})\n",
    "compare.sort_values(by='Accuracy', ascending=False)"
   ]
  },
  {
   "cell_type": "markdown",
   "id": "84d4aeec",
   "metadata": {},
   "source": [
    "👉 From the results, it can be seen that most of ML models can reach **more than 90%** in predicting classification of drug type."
   ]
  },
  {
   "cell_type": "markdown",
   "id": "94cd9614",
   "metadata": {},
   "source": [
    "## <div style=\"text-align: center; background-color: #012D7A; font-family:newtimeroman; color: white; padding: 20px; line-height: 1;border-radius:25px\">CONCLUSION 📊</div>"
   ]
  },
  {
   "cell_type": "code",
   "execution_count": 34,
   "id": "d86e95a9",
   "metadata": {},
   "outputs": [
    {
     "data": {
      "image/png": "[encoded data removed]",
      "text/plain": [
       "<Figure size 2000x500 with 1 Axes>"
      ]
     },
     "metadata": {},
     "output_type": "display_data"
    }
   ],
   "source": [
    "plt.figure(figsize = (20,5))\n",
    "sns.barplot(x = \"Model\",y=\"Accuracy\",data = compare)\n",
    "plt.title(\"Accuracy of each model\")\n",
    "plt.show()\n"
   ]
  },
  {
   "cell_type": "markdown",
   "id": "b63126fe",
   "metadata": {},
   "source": [
    "**Random Forest classifier  and Decision Tree classifier reach 100% accuracy.**\n",
    "\n",
    "**The rest of the classifiers reach more than 90% accuracy, with the exception of K Neighbours which performs the worst with 68.33%.**"
   ]
  },
  {
   "cell_type": "code",
   "execution_count": null,
   "id": "a9ea760e",
   "metadata": {},
   "outputs": [],
   "source": []
  },
  {
   "cell_type": "code",
   "execution_count": null,
   "id": "1c0d16cc",
   "metadata": {},
   "outputs": [],
   "source": []
  },
  {
   "cell_type": "code",
   "execution_count": null,
   "id": "3c82863a",
   "metadata": {},
   "outputs": [],
   "source": []
  },
  {
   "cell_type": "code",
   "execution_count": null,
   "id": "8933c808",
   "metadata": {},
   "outputs": [],
   "source": []
  }
 ],
 "metadata": {
  "kernelspec": {
   "display_name": "Python 3 (ipykernel)",
   "language": "python",
   "name": "python3"
  },
  "language_info": {
   "codemirror_mode": {
    "name": "ipython",
    "version": 3
   },
   "file_extension": ".py",
   "mimetype": "text/x-python",
   "name": "python",
   "nbconvert_exporter": "python",
   "pygments_lexer": "ipython3",
   "version": "3.10.9"
  }
 },
 "nbformat": 4,
 "nbformat_minor": 5
}
